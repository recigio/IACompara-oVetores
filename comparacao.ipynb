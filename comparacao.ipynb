{
 "cells": [
  {
   "cell_type": "code",
   "execution_count": 183,
   "metadata": {},
   "outputs": [],
   "source": [
    "##\n",
    "## Tensor flow, utiliza a distancia dos cossenos para calcular similaridade\n",
    "## Apenas entre vetores\n",
    "##\n",
    "\n",
    "import tensorflow as tf\n",
    "import numpy as np\n",
    "\n",
    "\n",
    "x = tf.constant([-0.65576398, -0.30374858, -0.98277804, -0.91493245]) \n",
    "y = tf.constant([-0.35576398, -0.30374858, -0.98277804, -0.11493245])\n",
    "s = tf.losses.cosine_distance(tf.nn.l2_normalize(x, 0), tf.nn.l2_normalize(y, 0), dim=0)\n",
    "result = tf.Session().run(s)"
   ]
  },
  {
   "cell_type": "code",
   "execution_count": 72,
   "metadata": {},
   "outputs": [
    {
     "data": {
      "text/plain": [
       "0.8367947340011597"
      ]
     },
     "execution_count": 72,
     "metadata": {},
     "output_type": "execute_result"
    }
   ],
   "source": [
    "1-result"
   ]
  },
  {
   "cell_type": "code",
   "execution_count": 122,
   "metadata": {},
   "outputs": [
    {
     "data": {
      "text/plain": [
       "array([[0.84515425, 0.9486833 ]])"
      ]
     },
     "execution_count": 122,
     "metadata": {},
     "output_type": "execute_result"
    }
   ],
   "source": [
    "##\n",
    "## scikit-learn, utilizando pairwise_distances \n",
    "## É capaz de calcular a distancia entre matrizes\n",
    "##\n",
    "\n",
    "from sklearn.metrics.pairwise import pairwise_distances\n",
    "\n",
    "#base\n",
    "input_matrix = np.array([[ 1, 2,3 ],[0,0,5]],dtype = 'float32')\n",
    "    \n",
    "#resultado\n",
    "result = (pairwise_distances([[1,0,3]],input_matrix, metric='cosine'))\n",
    "\n",
    "1-result"
   ]
  },
  {
   "cell_type": "code",
   "execution_count": 179,
   "metadata": {},
   "outputs": [
    {
     "name": "stderr",
     "output_type": "stream",
     "text": [
      "C:\\Users\\recigio\\Anaconda3\\lib\\site-packages\\sklearn\\utils\\validation.py:475: DataConversionWarning: Data with input dtype int32 was converted to float64 by MinMaxScaler.\n",
      "  warnings.warn(msg, DataConversionWarning)\n"
     ]
    },
    {
     "data": {
      "text/plain": [
       "array([[5, 3, 4]], dtype=int64)"
      ]
     },
     "execution_count": 179,
     "metadata": {},
     "output_type": "execute_result"
    }
   ],
   "source": [
    "##\n",
    "## scikit-learn, utilizando o calculo de visinhos mais próximos\n",
    "## É capaz de calcular a distancia entre matrizes\n",
    "##\n",
    "\n",
    "from sklearn.neighbors import NearestNeighbors\n",
    "from sklearn.preprocessing import MinMaxScaler\n",
    "import numpy as np\n",
    "\n",
    "#                 0              1             2           3           4          5\n",
    "X = np.array([[-1, -1,36], [-2, -1, 11], [-36, -2, 2], [1, 1, 1], [24, 1, 1], [3, 2, 1]])\n",
    "\n",
    "# utilizar um metodo escalar para deixar os numeros mais proximos\n",
    "#treina\n",
    "scaler = MinMaxScaler()\n",
    "scaler.fit(X)\n",
    "\n",
    "#escala\n",
    "X = scaler.transform(X)\n",
    "\n",
    "#treinar algoritmo\n",
    "nbrs = NearestNeighbors(n_neighbors=3, algorithm='brute').fit(X)\n",
    "\n",
    "#escala\n",
    "y = scaler.transform([[2,2,-1]])\n",
    "\n",
    "#resultado\n",
    "distances, indices = nbrs.kneighbors(y)\n",
    "indices          "
   ]
  },
  {
   "cell_type": "code",
   "execution_count": 182,
   "metadata": {},
   "outputs": [
    {
     "data": {
      "text/plain": [
       "array([[0.94047619, 0.74301151, 0.55255196]])"
      ]
     },
     "execution_count": 182,
     "metadata": {},
     "output_type": "execute_result"
    }
   ],
   "source": [
    "1-distances"
   ]
  },
  {
   "cell_type": "code",
   "execution_count": null,
   "metadata": {},
   "outputs": [],
   "source": []
  }
 ],
 "metadata": {
  "kernelspec": {
   "display_name": "Python 3",
   "language": "python",
   "name": "python3"
  },
  "language_info": {
   "codemirror_mode": {
    "name": "ipython",
    "version": 3
   },
   "file_extension": ".py",
   "mimetype": "text/x-python",
   "name": "python",
   "nbconvert_exporter": "python",
   "pygments_lexer": "ipython3",
   "version": "3.6.5"
  }
 },
 "nbformat": 4,
 "nbformat_minor": 2
}
